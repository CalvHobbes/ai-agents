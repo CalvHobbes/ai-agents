{
  "nbformat": 4,
  "nbformat_minor": 0,
  "metadata": {
    "colab": {
      "provenance": [],
      "authorship_tag": "ABX9TyOlFkaUy08rBHUvhmPdNNbJ",
      "include_colab_link": true
    },
    "kernelspec": {
      "name": "python3",
      "display_name": "Python 3"
    },
    "language_info": {
      "name": "python"
    }
  },
  "cells": [
    {
      "cell_type": "markdown",
      "metadata": {
        "id": "view-in-github",
        "colab_type": "text"
      },
      "source": [
        "<a href=\"https://colab.research.google.com/github/CalvHobbes/ai-agents/blob/main/Gemini_Agents.ipynb\" target=\"_parent\"><img src=\"https://colab.research.google.com/assets/colab-badge.svg\" alt=\"Open In Colab\"/></a>"
      ]
    },
    {
      "cell_type": "markdown",
      "source": [
        "Code based on [Google Agents whitepaper](https://drive.google.com/file/d/1oEjiRCTbd54aSdB_eEe3UShxLBWK9xkt/view), except Vertex replaced by Gemini (so no billing setup required)"
      ],
      "metadata": {
        "id": "suSSbMn9zy2x"
      }
    },
    {
      "cell_type": "markdown",
      "source": [
        "**FUNCTIONS**"
      ],
      "metadata": {
        "id": "CEtNbVbU9UZo"
      }
    },
    {
      "cell_type": "code",
      "source": [
        "from typing import Optional\n",
        "\n",
        "def display_cities(cities: list[str], preferences: Optional[str] = None):\n",
        "  \"\"\"Provides a list of cities based on the user's search query and preferences.\n",
        "  Args:\n",
        "  preferences (str): The user's preferences for the search, like skiing,\n",
        "  beach, restaurants, bbq, etc.\n",
        "  cities (list[str]): The list of cities being recommended to the user.\n",
        "  Returns:\n",
        "  list[str]: The list of cities being recommended to the user.\n",
        "  \"\"\"\n",
        "  return cities"
      ],
      "metadata": {
        "id": "EJ0ynIiuJVRb"
      },
      "execution_count": 1,
      "outputs": []
    },
    {
      "cell_type": "code",
      "source": [
        "!pip install google-cloud-aiplatform google-auth\n"
      ],
      "metadata": {
        "id": "VrIOponOmc4K"
      },
      "execution_count": null,
      "outputs": []
    },
    {
      "cell_type": "code",
      "source": [
        "from google.colab import userdata\n",
        "import os\n",
        "\n",
        "os.environ[\"GOOGLE_API_KEY\"] = userdata.get('GEMINI_KEY')\n",
        "os.environ[\"GOOGLE_CLOUD_PROJECT\"] = userdata.get('GOOGLE_CLOUD_PROJECT') # Replace with your actual project ID\n",
        "# print(os.environ[\"GOOGLE_API_KEY\"])\n",
        "# print(os.environ[\"GOOGLE_CLOUD_PROJECT\"] )\n"
      ],
      "metadata": {
        "id": "DLnuPdOnoVsh"
      },
      "execution_count": 3,
      "outputs": []
    },
    {
      "cell_type": "code",
      "source": [
        "%pip install -U google-generativeai"
      ],
      "metadata": {
        "id": "raDAmCIMooK-"
      },
      "execution_count": null,
      "outputs": []
    },
    {
      "cell_type": "code",
      "source": [
        "import os\n",
        "import google.generativeai as genai\n",
        "\n",
        "genai.configure(api_key=os.environ['GOOGLE_API_KEY'])"
      ],
      "metadata": {
        "id": "p6fIIKW-ozqS"
      },
      "execution_count": 5,
      "outputs": []
    },
    {
      "cell_type": "code",
      "source": [
        "model = genai.GenerativeModel(\"gemini-1.5-flash-001\")"
      ],
      "metadata": {
        "id": "Tz7zuCH4pSJl"
      },
      "execution_count": 6,
      "outputs": []
    },
    {
      "cell_type": "code",
      "source": [
        "from google.generativeai.types import FunctionDeclaration, Tool\n",
        "\n",
        "# display_cities_function = FunctionDeclaration.from_func(display_cities) // For Vertex\n",
        "# Define FunctionDeclaration manually\n",
        "display_cities_function = FunctionDeclaration(\n",
        "    name=\"display_cities\",\n",
        "    description=\"Provides a list of cities based on the user's search query and preferences.\",\n",
        "    parameters={\n",
        "        \"type\": \"object\",\n",
        "        \"properties\": {\n",
        "            \"cities\": {\n",
        "                \"type\": \"array\",\n",
        "                \"items\": {\"type\": \"string\"},\n",
        "                \"description\": \"The list of cities being recommended to the user.\"\n",
        "            },\n",
        "            \"preferences\": {\n",
        "                \"type\": \"string\",\n",
        "                \"description\": \"The user's preferences for the search, like skiing, beach, restaurants, bbq, etc.\"\n",
        "            }\n",
        "        },\n",
        "        \"required\": [\"cities\"]\n",
        "    }\n",
        ")\n",
        "tool = Tool(function_declarations=[display_cities_function])\n",
        "message = \"I’d like to take a ski trip with my family but I’m not sure where to go.\""
      ],
      "metadata": {
        "id": "eKJCscLVplac"
      },
      "execution_count": 8,
      "outputs": []
    },
    {
      "cell_type": "code",
      "source": [
        "res = model.generate_content(message, tools=[tool])\n",
        "print(f\"Function Name: {res.candidates[0].content.parts[0].function_call.name}\")\n",
        "function_args = res.candidates[0].content.parts[0].function_call.args\n",
        "# Convert the MapComposite object to a dictionary\n",
        "function_args_dict = dict(function_args)\n",
        "\n",
        "print(f\"Function Args: {function_args_dict}\")"
      ],
      "metadata": {
        "colab": {
          "base_uri": "https://localhost:8080/",
          "height": 53
        },
        "id": "OiL3QuAKJ2vE",
        "outputId": "7918315a-7bc4-4c1e-b0a8-0dcf049a9718"
      },
      "execution_count": 9,
      "outputs": [
        {
          "output_type": "stream",
          "name": "stdout",
          "text": [
            "Function Name: display_cities\n",
            "Function Args: {'preferences': 'skiing', 'cities': ['Aspen', 'Vail', 'Breckenridge']}\n"
          ]
        }
      ]
    }
  ]
}